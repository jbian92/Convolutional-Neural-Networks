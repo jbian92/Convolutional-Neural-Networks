{
  "nbformat": 4,
  "nbformat_minor": 0,
  "metadata": {
    "colab": {
      "name": "MNIST_CNN.ipynb",
      "provenance": [],
      "authorship_tag": "ABX9TyODlwjxV/c9eCVqaxCTrMh0",
      "include_colab_link": true
    },
    "kernelspec": {
      "name": "python3",
      "display_name": "Python 3"
    },
    "language_info": {
      "name": "python"
    }
  },
  "cells": [
    {
      "cell_type": "markdown",
      "metadata": {
        "id": "view-in-github",
        "colab_type": "text"
      },
      "source": [
        "<a href=\"https://colab.research.google.com/github/jbian92/Convolutional-Neural-Networks/blob/main/MNIST_CNN.ipynb\" target=\"_parent\"><img src=\"https://colab.research.google.com/assets/colab-badge.svg\" alt=\"Open In Colab\"/></a>"
      ]
    },
    {
      "cell_type": "markdown",
      "metadata": {
        "id": "cVerefV1zgSy"
      },
      "source": [
        "Import packages"
      ]
    },
    {
      "cell_type": "code",
      "metadata": {
        "id": "DIRdeunvzhVI"
      },
      "source": [
        "from sklearn.model_selection import train_test_split                    # used to split data into a training dataset and testing dataset\n",
        "from tensorflow import keras                                            # used to create machine learning models and train them\n",
        "from keras.models import Sequential                                     # used to create a base sequential model because CNN is a sequential model\n",
        "from keras.layers import Dense, Dropout, Flatten, Conv2D, MaxPooling2D  # used to create CNN architecture\n",
        "import pandas as pd                                                     # used to preprocess and manipulate input\n",
        "import numpy as np                                                      # used to create and manipulate n dimensional vectors, such as turning a list of pixels into a 2D shape"
      ],
      "execution_count": 1,
      "outputs": []
    },
    {
      "cell_type": "markdown",
      "metadata": {
        "id": "wBcMX49LzAsv"
      },
      "source": [
        "Download the MNIST dataset"
      ]
    },
    {
      "cell_type": "code",
      "metadata": {
        "colab": {
          "base_uri": "https://localhost:8080/"
        },
        "id": "szVsMgt3zFYi",
        "outputId": "359872ea-6525-451b-f384-643ec921eb04"
      },
      "source": [
        "! wget https://www.ocf.berkeley.edu/~mingjie/tr/mnist/train.csv"
      ],
      "execution_count": 2,
      "outputs": [
        {
          "output_type": "stream",
          "text": [
            "--2021-08-11 02:43:15--  https://www.ocf.berkeley.edu/~mingjie/tr/mnist/train.csv\n",
            "Resolving www.ocf.berkeley.edu (www.ocf.berkeley.edu)... 169.229.226.23, 2607:f140:8801::1:23\n",
            "Connecting to www.ocf.berkeley.edu (www.ocf.berkeley.edu)|169.229.226.23|:443... connected.\n",
            "HTTP request sent, awaiting response... 200 OK\n",
            "Length: 76775041 (73M) [text/csv]\n",
            "Saving to: ‘train.csv’\n",
            "\n",
            "train.csv           100%[===================>]  73.22M  6.08MB/s    in 13s     \n",
            "\n",
            "2021-08-11 02:43:29 (5.62 MB/s) - ‘train.csv’ saved [76775041/76775041]\n",
            "\n"
          ],
          "name": "stdout"
        }
      ]
    },
    {
      "cell_type": "markdown",
      "metadata": {
        "id": "b_k_hoOs1meZ"
      },
      "source": [
        "Define constants"
      ]
    },
    {
      "cell_type": "code",
      "metadata": {
        "id": "6d2SFhST1lmi"
      },
      "source": [
        "batch_size = 128              # how many images get sent to the model at a time when training\n",
        "num_classes = 10              # number of total classifications; this is 10 because the images can be any single digit (0-9)\n",
        "epochs = 12                   # number of times the model will see the entire training dataset\n",
        "img_rows, img_cols = 28, 28   # dimensions of the input images (28 x 28)"
      ],
      "execution_count": 3,
      "outputs": []
    },
    {
      "cell_type": "markdown",
      "metadata": {
        "id": "vB4NuWDX2Wnt"
      },
      "source": [
        "Load the data"
      ]
    },
    {
      "cell_type": "code",
      "metadata": {
        "id": "Nk-DybUz2YKT"
      },
      "source": [
        "df = pd.read_csv('train.csv')"
      ],
      "execution_count": 4,
      "outputs": []
    },
    {
      "cell_type": "markdown",
      "metadata": {
        "id": "XOC7-nQWDi83"
      },
      "source": [
        "Create training and testing sets"
      ]
    },
    {
      "cell_type": "code",
      "metadata": {
        "id": "B1N0-Z6cDksK"
      },
      "source": [
        "y = df.pop('label') # represents the column called label from the dataset\n",
        "X = df.values       # remainder of the data\n",
        "\n",
        "# CNNs only output binary classifications (0/1)\n",
        "# Since output has 10 possible options, convert it into an array using the one hot encoding method\n",
        "# e.g. if the label was 1, the new label will be [0,1,0,0,0,0,0,0,0,0]\n",
        "y = keras.utils.to_categorical(y, num_classes)\n",
        "\n",
        "# CNNs only take in 2D inputs, but right now the dataframe X is one dimensional\n",
        "# Use numpy to reconstruct it and make it two dimensional again\n",
        "X = X.reshape((-1, img_rows, img_cols, 1))\n",
        "\n",
        "# X_train represents training evidence\n",
        "# X_test represents testing evidence\n",
        "# y_train represents training labels\n",
        "# y_test represents testing labels\n",
        "X_train, X_test, y_train, y_test = train_test_split(X, y, test_size=0.3) "
      ],
      "execution_count": 5,
      "outputs": []
    },
    {
      "cell_type": "markdown",
      "metadata": {
        "id": "AembAr18E10M"
      },
      "source": [
        "Define the model"
      ]
    },
    {
      "cell_type": "code",
      "metadata": {
        "id": "sJmvRkEiE2-K"
      },
      "source": [
        "model = Sequential()\n",
        "\n",
        "# add convolution layers, pooling layers, and dropout layers with fully connected layers at the end\n",
        "model.add(Conv2D(32, kernel_size=(3, 3),\n",
        "                 activation='relu',\n",
        "                 input_shape=(28,28,1)))\n",
        "model.add(Conv2D(64, (3, 3), activation='relu'))\n",
        "model.add(MaxPooling2D(pool_size=(2, 2)))\n",
        "model.add(Dropout(0.15))\n",
        "model.add(Flatten())\n",
        "model.add(Dense(128, activation='relu'))\n",
        "model.add(Dropout(0.15))\n",
        "model.add(Dense(num_classes, activation='softmax'))"
      ],
      "execution_count": 6,
      "outputs": []
    },
    {
      "cell_type": "markdown",
      "metadata": {
        "id": "QxH6Lm03Fh1f"
      },
      "source": [
        "Train the model"
      ]
    },
    {
      "cell_type": "code",
      "metadata": {
        "colab": {
          "base_uri": "https://localhost:8080/"
        },
        "id": "mIRa3F2-Fi-v",
        "outputId": "c396929c-a2b5-43a6-eae9-2f258f6a15ae"
      },
      "source": [
        "model.compile(loss=keras.losses.categorical_crossentropy,\n",
        "              optimizer=keras.optimizers.Adadelta(),\n",
        "              metrics=['accuracy'])\n",
        "\n",
        "model.fit(X_train, y_train,\n",
        "          batch_size=batch_size,\n",
        "          epochs=epochs,\n",
        "          verbose=1,\n",
        "          validation_data=(X_test, y_test))"
      ],
      "execution_count": 7,
      "outputs": [
        {
          "output_type": "stream",
          "text": [
            "Epoch 1/12\n",
            "230/230 [==============================] - 68s 235ms/step - loss: 26.7763 - accuracy: 0.1365 - val_loss: 6.3021 - val_accuracy: 0.3753\n",
            "Epoch 2/12\n",
            "230/230 [==============================] - 53s 232ms/step - loss: 11.4887 - accuracy: 0.2972 - val_loss: 3.5585 - val_accuracy: 0.5733\n",
            "Epoch 3/12\n",
            "230/230 [==============================] - 53s 232ms/step - loss: 7.7618 - accuracy: 0.4121 - val_loss: 2.4016 - val_accuracy: 0.6768\n",
            "Epoch 4/12\n",
            "230/230 [==============================] - 53s 232ms/step - loss: 5.6456 - accuracy: 0.5133 - val_loss: 1.8526 - val_accuracy: 0.7317\n",
            "Epoch 5/12\n",
            "230/230 [==============================] - 53s 232ms/step - loss: 4.4916 - accuracy: 0.5639 - val_loss: 1.5051 - val_accuracy: 0.7679\n",
            "Epoch 6/12\n",
            "230/230 [==============================] - 54s 235ms/step - loss: 3.5822 - accuracy: 0.6099 - val_loss: 1.2581 - val_accuracy: 0.7902\n",
            "Epoch 7/12\n",
            "230/230 [==============================] - 54s 234ms/step - loss: 2.9948 - accuracy: 0.6379 - val_loss: 1.1013 - val_accuracy: 0.8050\n",
            "Epoch 8/12\n",
            "230/230 [==============================] - 53s 232ms/step - loss: 2.6026 - accuracy: 0.6667 - val_loss: 0.9602 - val_accuracy: 0.8192\n",
            "Epoch 9/12\n",
            "230/230 [==============================] - 54s 234ms/step - loss: 2.2742 - accuracy: 0.6828 - val_loss: 0.8603 - val_accuracy: 0.8269\n",
            "Epoch 10/12\n",
            "230/230 [==============================] - 54s 234ms/step - loss: 1.9613 - accuracy: 0.6966 - val_loss: 0.7778 - val_accuracy: 0.8340\n",
            "Epoch 11/12\n",
            "230/230 [==============================] - 53s 232ms/step - loss: 1.7716 - accuracy: 0.7133 - val_loss: 0.7109 - val_accuracy: 0.8375\n",
            "Epoch 12/12\n",
            "230/230 [==============================] - 54s 233ms/step - loss: 1.6183 - accuracy: 0.7154 - val_loss: 0.6576 - val_accuracy: 0.8396\n"
          ],
          "name": "stdout"
        },
        {
          "output_type": "execute_result",
          "data": {
            "text/plain": [
              "<keras.callbacks.History at 0x7f1b70820d90>"
            ]
          },
          "metadata": {
            "tags": []
          },
          "execution_count": 7
        }
      ]
    },
    {
      "cell_type": "markdown",
      "metadata": {
        "id": "4r6O5Tr9FrP4"
      },
      "source": [
        "Test the model"
      ]
    },
    {
      "cell_type": "code",
      "metadata": {
        "colab": {
          "base_uri": "https://localhost:8080/"
        },
        "id": "AYpv_tZmFsQR",
        "outputId": "6586bfe0-da2e-4b28-8b37-2f1987bfacb0"
      },
      "source": [
        "model.evaluate(X_test, y_test, verbose=2)"
      ],
      "execution_count": 8,
      "outputs": [
        {
          "output_type": "stream",
          "text": [
            "394/394 - 6s - loss: 0.6576 - accuracy: 0.8396\n"
          ],
          "name": "stdout"
        },
        {
          "output_type": "execute_result",
          "data": {
            "text/plain": [
              "[0.657579779624939, 0.8396031856536865]"
            ]
          },
          "metadata": {
            "tags": []
          },
          "execution_count": 8
        }
      ]
    }
  ]
}